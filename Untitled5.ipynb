{
 "cells": [
  {
   "cell_type": "code",
   "execution_count": 2,
   "id": "673d1586",
   "metadata": {},
   "outputs": [
    {
     "name": "stdout",
     "output_type": "stream",
     "text": [
      "What is the vehicle type? (car, truck, plane, boat)car\n",
      "What year was the vehicle made?2022\n",
      "What is the vehicle make?Toyota\n",
      "What is the vehicle model?Corolla\n",
      "How many doors does the vehicle have?2\n",
      "What type of roof does the vehicle have?Sun-roof\n",
      "Vehicle type: car\n",
      "Year: 2022\n",
      "Make: Toyota\n",
      "Model: Corolla\n",
      "Number of doors: 2\n",
      "Type of roof: Sun-roof\n"
     ]
    }
   ],
   "source": [
    "class Vehicle():\n",
    "    pass\n",
    "Vehicle.type = input(\"What is the vehicle type? (car, truck, plane, boat)\")\n",
    "class Automobile(Vehicle):\n",
    "    pass\n",
    "Automobile.year = input(\"What year was the vehicle made?\")\n",
    "Automobile.make = input(\"What is the vehicle make?\")\n",
    "Automobile.model = input(\"What is the vehicle model?\")\n",
    "Automobile.doors = input(\"How many doors does the vehicle have?\")\n",
    "Automobile.roof = input(\"What type of roof does the vehicle have?\")\n",
    "\n",
    "print(\"Vehicle type: \" + Automobile.type + \"\\nYear: \" + Automobile.year + \"\\nMake: \" + Automobile.make + \"\\nModel: \" + Automobile.model + \"\\nNumber of doors: \" + Automobile.doors + \"\\nType of roof: \" + Automobile.roof)\n"
   ]
  },
  {
   "cell_type": "code",
   "execution_count": null,
   "id": "43fa1d2c",
   "metadata": {},
   "outputs": [],
   "source": []
  }
 ],
 "metadata": {
  "kernelspec": {
   "display_name": "Python 3 (ipykernel)",
   "language": "python",
   "name": "python3"
  },
  "language_info": {
   "codemirror_mode": {
    "name": "ipython",
    "version": 3
   },
   "file_extension": ".py",
   "mimetype": "text/x-python",
   "name": "python",
   "nbconvert_exporter": "python",
   "pygments_lexer": "ipython3",
   "version": "3.9.13"
  }
 },
 "nbformat": 4,
 "nbformat_minor": 5
}
